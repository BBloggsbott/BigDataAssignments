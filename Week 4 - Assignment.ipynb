{
 "cells": [
  {
   "cell_type": "code",
   "execution_count": 1,
   "metadata": {},
   "outputs": [],
   "source": [
    "%load_ext watermark\n",
    "%matplotlib inline"
   ]
  },
  {
   "cell_type": "code",
   "execution_count": 2,
   "metadata": {},
   "outputs": [
    {
     "name": "stdout",
     "output_type": "stream",
     "text": [
      "Vishal R 2019-08-31 \n",
      "\n",
      "CPython 3.7.3\n",
      "IPython 7.4.0\n",
      "\n",
      "compiler   : Clang 4.0.1 (tags/RELEASE_401/final)\n",
      "system     : Darwin\n",
      "release    : 18.7.0\n",
      "machine    : x86_64\n",
      "processor  : i386\n",
      "CPU cores  : 4\n",
      "interpreter: 64bit\n"
     ]
    }
   ],
   "source": [
    "%watermark -a \"Vishal R\" -d -v -m"
   ]
  },
  {
   "cell_type": "markdown",
   "metadata": {},
   "source": [
    "# Problem 1\n",
    "**Question:** For a given utility matrix representing the ratings, on a 1–5 star scale, of eight items, a  through h, by three users A , B , and C . Compute the following from the data of this matrix\n",
    "\n",
    "![Image](https://piazza.com/redirect/s3?bucket=uploads&prefix=attach%2Fjwn81pe1oo0ou%2Fjbbtu4a92e71rh%2Fjzxpdqly23x0%2Futility.png)\n",
    "\n",
    "1. Treating the utility matrix as boolean, compute the Jaccard distance between each pair of users.\n",
    "1. Repeat Part (1), but use the cosine distance.\n",
    "1. Treat ratings of 3, 4, and 5 as 1 and 1, 2, and blank as 0. Compute the Jaccard distance between each pair of users.\n",
    "1. Repeat Part (3), but use the cosine distance.\n",
    "1. Normalize the matrix by subtracting from each nonblank entry the average value for its user.\n",
    "1. Using the normalized matrix from Part (5), compute the cosine distance between each pair of users.\n",
    "\n",
    "\n",
    "**Answer**:<br>\n",
    "**Jaccard Distance** is a measure of how dissimilar two sets are. It is given as $D(X,Y) = 1 - J(X,Y)$, where $J(X, Y)$ is the Jaccard Index which is a measure of how similar two sets are. Jaccard Index is given by $J(X,Y) = \\frac{|A\\bigcap B|}{|A\\bigcup B|}$.\n",
    "1. Treating the given utility batrix as boolean, we get the new utility matrix as (assuming blank spaces also as 0)\n",
    "\n",
    "\\begin{pmatrix}1 & 1 & 0 & 1 & 1 & 0 & 1 & 1\\\\\n",
    "0 & 1 & 1 & 1 & 1 & 1 & 1 & 0\\\\\n",
    "1 & 0 & 1 & 1 & 0 & 1 & 1 & 1\\end{pmatrix}\n",
    "\n",
    "\n",
    "We have $A = \\begin{pmatrix}1 & 1 & 0 & 1 & 1 & 0 & 1 & 1\\end{pmatrix}$, $B = \\begin{pmatrix}0 & 1 & 1 & 1 & 1 & 1 & 1 & 0\\end{pmatrix}$ and $C = \\begin{pmatrix}1 & 0 & 1 & 1 & 0 & 1 & 1 & 1\\end{pmatrix}$\n",
    "\n",
    "$|A\\bigcap B| = |\\begin{pmatrix}0 & 1 & 0 & 1 & 1 & 0 & 1 & 0\\end{pmatrix}| = 4$ and $|A\\bigcup B| = |\\begin{pmatrix}1 & 1 & 1 & 1 & 1 & 1 & 1 & 1\\end{pmatrix}| = 8$\n",
    "\n",
    "$|B\\bigcap C| = |\\begin{pmatrix}0 & 0 & 1 & 1 & 0 & 1 & 1 & 0\\end{pmatrix}| = 4$ and $|B\\bigcup C| = |\\begin{pmatrix}1 & 1 & 1 & 1 & 1 & 1 & 1 & 1\\end{pmatrix}| = 8$\n",
    "\n",
    "$|A\\bigcap C| = |\\begin{pmatrix}1 & 0 & 0 & 1 & 0 & 0 & 1 & 1\\end{pmatrix}| = 4$ and $|A\\bigcup C| = |\\begin{pmatrix}1 & 1 & 1 & 1 & 1 & 1 & 1 & 1\\end{pmatrix}| = 8$\n",
    "\n",
    "$J(A, B) = \\frac{4}{8} = 0.5$<br>\n",
    "$J(B, C) = \\frac{4}{8} = 0.5$<br>\n",
    "$J(A, C) = \\frac{4}{8} = 0.5$<br>\n",
    "\n",
    "$D(A, B) = 1 - 0.5 = 0.5$<br>\n",
    "$D(B, C) = 1 - 0.5 = 0.5$<br>\n",
    "$D(A, C) = 1 - 0.5 = 0.5$<br>\n",
    "\n",
    "2. Cosine distance between 2 vectors A, B is the cosine of the angle between them. $CosineDistance(A, B) = \\frac{A\\cdot B}{Magnitude(A) * Magnitude(B)}$. Therefore, we get:\n",
    "\n",
    "$CosineDistance(A, B) = \\frac{4}{\\sqrt{6}*\\sqrt{6}} = \\frac{2}{3}$<br>\n",
    "$CosineDistance(B, C) = \\frac{4}{\\sqrt{6}*\\sqrt{6}} = \\frac{2}{3}$<br>\n",
    "$CosineDistance(A, C) = \\frac{4}{\\sqrt{6}*\\sqrt{6}} = \\frac{2}{3}$<br>\n",
    "\n",
    "3. Treating 3, 4, 5 as 1 and 1, 2, blank as 0 we get the new utility matrix as\n",
    "\n",
    "\\begin{pmatrix}1 & 1 & 0 & 1 & 0 & 0 & 1 & 0\\\\\n",
    "0 & 1 & 1 & 1 & 0 & 0 & 0 & 0\\\\\n",
    "0 & 0 & 0 & 1 & 0 & 1 & 1 & 1\\end{pmatrix}\n",
    "\n",
    "$A = \\begin{pmatrix}1 & 1 & 0 & 1 & 0 & 0 & 1 & 0\\end{pmatrix}$, $B = \\begin{pmatrix}0 & 1 & 1 & 1 & 0 & 0 & 0 & 0\\end{pmatrix}$ and $C = \\begin{pmatrix}0 & 0 & 0 & 1 & 0 & 1 & 1 & 1\\end{pmatrix}$\n",
    "\n",
    "$|A\\bigcap B| = |\\begin{pmatrix}0 & 1 & 0 & 1 & 0 & 0 & 0 & 0\\end{pmatrix}| = 2$ and $|A\\bigcup B| = |\\begin{pmatrix}1 & 1 & 1 & 1 & 0 & 0 & 1 & 0\\end{pmatrix}| = 5$\n",
    "\n",
    "$|B\\bigcap C| = |\\begin{pmatrix}0 & 0 & 0 & 1 & 0 & 0 & 0 & 0\\end{pmatrix}| = 1$ and $|B\\bigcup C| = |\\begin{pmatrix}0 & 1 & 1 & 1 & 0 & 1 & 1 & 1\\end{pmatrix}| = 6$\n",
    "\n",
    "$|A\\bigcap C| = |\\begin{pmatrix}0 & 0 & 0 & 1 & 0 & 0 & 1 & 0\\end{pmatrix}| = 2$ and $|A\\bigcup C| = |\\begin{pmatrix}1 & 1 & 0 & 1 & 0 & 1 & 1 & 1\\end{pmatrix}| = 6$\n",
    "\n",
    "$J(A, B) = \\frac{2}{5} = 0.4$<br>\n",
    "$J(B, C) = \\frac{1}{6}$<br>\n",
    "$J(A, C) = \\frac{2}{6} = \\frac{1}{3}$<br>\n",
    "\n",
    "$D(A, B) = 1 - 0.4 = 0.6$<br>\n",
    "$D(B, C) = 1 - \\frac{1}{6} = \\frac{5}{6}$<br>\n",
    "$D(A, C) = 1 - \\frac{1}{3} = \\frac{2}{3}$<br>\n",
    "\n",
    "4. Using values of A, B, C from Q3, \n",
    "\n",
    "$CosineDistance(A, B) = \\frac{2}{\\sqrt{4}*\\sqrt{3}} = \\frac{1}{\\sqrt{3}}$<br>\n",
    "$CosineDistance(B, C) = \\frac{1}{\\sqrt{3}*\\sqrt{4}} = \\frac{1}{2\\sqrt{3}}$<br>\n",
    "$CosineDistance(A, C) = \\frac{2}{\\sqrt{4}*\\sqrt{4}} = 0.5$<br>\n",
    "\n",
    "5. Using A, B, C from Q3,\n",
    "\n",
    "$\\overline{A} = 0.5$<br>\n",
    "$\\overline{B} = \\frac{3}{8}$<br>\n",
    "$\\overline{C} = 0.5$<br>\n",
    "\n",
    "The Normalized matrix is:\n",
    "\n",
    "\\begin{pmatrix}0.5 & 0.5 & -0.5 & 0.5 & -0.5 & -0.5 & 0.5 & -0.5\\\\\n",
    "-\\frac{3}{8} & \\frac{5}{8} & \\frac{5}{8} & \\frac{5}{8} & -\\frac{3}{8} & -\\frac{3}{8} & -\\frac{3}{8} & -\\frac{3}{8}\\\\\n",
    "-0.5 & -0.5 & -0.5 & 0.5 & -0.5 & 0.5 & 0.5 & 0.5\\end{pmatrix}\n",
    "\n",
    "6. Calculating Cosine Distances for the Normalized matrix:\n",
    "\n",
    "$CosineDistance(A, B) = 0.17251638983558854$<br>\n",
    "$CosineDistance(B, C) = -0.2581988897471611$<br>\n",
    "$CosineDistance(A, C) = 0.13363062095621217$<br>"
   ]
  },
  {
   "cell_type": "code",
   "execution_count": 3,
   "metadata": {},
   "outputs": [],
   "source": [
    "# Calculating cosines for Q6\n",
    "from math import sqrt\n",
    "a = [0.5, 0.5, -0.5, 0.5, -0.5, 0.5, -0.5]\n",
    "b = [(-3/8), 5/8, 5/8, 5/8, -3/8, -3/8, -3/8, -3/8]\n",
    "c = [-0.5, -0.5, -0.5, 0.5, -0.5, 0.5, 0.5, 0.5]\n",
    "cosinedist = lambda a,b: sum([i*j for i, j in zip(a,b)])/(sqrt(sum([i**2 for i in a]))*sqrt(sum([i**2 for i in b])))"
   ]
  },
  {
   "cell_type": "code",
   "execution_count": 4,
   "metadata": {},
   "outputs": [
    {
     "name": "stdout",
     "output_type": "stream",
     "text": [
      "0.17251638983558854\n",
      "-0.2581988897471611\n",
      "0.13363062095621217\n"
     ]
    }
   ],
   "source": [
    "print(cosinedist(a,b))\n",
    "print(cosinedist(b,c))\n",
    "print(cosinedist(a,c))"
   ]
  },
  {
   "cell_type": "markdown",
   "metadata": {},
   "source": [
    "# Problem 2\n",
    "**Question** Load the Movielens 100k dataset (ml-100k.zip) into Python using Pandas dataframes. Build a user profile on unscaled data for both users 200 and 15, and calculate the cosine similarity and distance between the user’s preferences and the item/movie 95. Which user would a recommender system suggest this movie to? \n",
    "dataset: https://grouplens.org/datasets/movielens/100k/"
   ]
  },
  {
   "cell_type": "code",
   "execution_count": 5,
   "metadata": {},
   "outputs": [],
   "source": [
    "import pandas as pd\n",
    "from pathlib import Path\n",
    "data_path = Path('data')"
   ]
  },
  {
   "cell_type": "code",
   "execution_count": 6,
   "metadata": {},
   "outputs": [],
   "source": [
    "ratings_cols = [\"user_id\", \"item_id\", \"rating\", \"timestamp\"]\n",
    "ratings = pd.read_csv(data_path/'u.data', sep='\\t', header = None, encoding='latin-1', names = ratings_cols)\n",
    "movie_cols = ['movie id', 'movie title', 'release date', 'video release date', 'IMDb URL', 'unknown', 'Action', 'Adventure', 'Animation', \"Children's\", 'Comedy', 'Crime', 'Documentary', 'Drama', 'Fantasy', 'Film-Noir', 'Horror', 'Musical', 'Mystery', 'Romance', 'Sci-Fi', 'Thriller', 'War', 'Western']\n",
    "movies = pd.read_csv(data_path/'u.item', sep = '|', header = None, encoding='latin-1', names = movie_cols)\n",
    "user_cols = [\"user_id\", \"age\", \"gender\", \"occupation\", \"zipcode\"]\n",
    "users = pd.read_csv(data_path/'u.user', sep = '|', encoding = 'latin-1', header = None, names = user_cols)"
   ]
  },
  {
   "cell_type": "code",
   "execution_count": 7,
   "metadata": {},
   "outputs": [
    {
     "data": {
      "text/html": [
       "<div>\n",
       "<style scoped>\n",
       "    .dataframe tbody tr th:only-of-type {\n",
       "        vertical-align: middle;\n",
       "    }\n",
       "\n",
       "    .dataframe tbody tr th {\n",
       "        vertical-align: top;\n",
       "    }\n",
       "\n",
       "    .dataframe thead th {\n",
       "        text-align: right;\n",
       "    }\n",
       "</style>\n",
       "<table border=\"1\" class=\"dataframe\">\n",
       "  <thead>\n",
       "    <tr style=\"text-align: right;\">\n",
       "      <th></th>\n",
       "      <th>user_id</th>\n",
       "      <th>item_id</th>\n",
       "      <th>rating</th>\n",
       "      <th>timestamp</th>\n",
       "    </tr>\n",
       "  </thead>\n",
       "  <tbody>\n",
       "    <tr>\n",
       "      <th>0</th>\n",
       "      <td>196</td>\n",
       "      <td>242</td>\n",
       "      <td>3</td>\n",
       "      <td>881250949</td>\n",
       "    </tr>\n",
       "    <tr>\n",
       "      <th>1</th>\n",
       "      <td>186</td>\n",
       "      <td>302</td>\n",
       "      <td>3</td>\n",
       "      <td>891717742</td>\n",
       "    </tr>\n",
       "    <tr>\n",
       "      <th>2</th>\n",
       "      <td>22</td>\n",
       "      <td>377</td>\n",
       "      <td>1</td>\n",
       "      <td>878887116</td>\n",
       "    </tr>\n",
       "    <tr>\n",
       "      <th>3</th>\n",
       "      <td>244</td>\n",
       "      <td>51</td>\n",
       "      <td>2</td>\n",
       "      <td>880606923</td>\n",
       "    </tr>\n",
       "    <tr>\n",
       "      <th>4</th>\n",
       "      <td>166</td>\n",
       "      <td>346</td>\n",
       "      <td>1</td>\n",
       "      <td>886397596</td>\n",
       "    </tr>\n",
       "  </tbody>\n",
       "</table>\n",
       "</div>"
      ],
      "text/plain": [
       "   user_id  item_id  rating  timestamp\n",
       "0      196      242       3  881250949\n",
       "1      186      302       3  891717742\n",
       "2       22      377       1  878887116\n",
       "3      244       51       2  880606923\n",
       "4      166      346       1  886397596"
      ]
     },
     "execution_count": 7,
     "metadata": {},
     "output_type": "execute_result"
    }
   ],
   "source": [
    "ratings.head()"
   ]
  },
  {
   "cell_type": "code",
   "execution_count": 8,
   "metadata": {},
   "outputs": [
    {
     "data": {
      "text/html": [
       "<div>\n",
       "<style scoped>\n",
       "    .dataframe tbody tr th:only-of-type {\n",
       "        vertical-align: middle;\n",
       "    }\n",
       "\n",
       "    .dataframe tbody tr th {\n",
       "        vertical-align: top;\n",
       "    }\n",
       "\n",
       "    .dataframe thead th {\n",
       "        text-align: right;\n",
       "    }\n",
       "</style>\n",
       "<table border=\"1\" class=\"dataframe\">\n",
       "  <thead>\n",
       "    <tr style=\"text-align: right;\">\n",
       "      <th></th>\n",
       "      <th>movie id</th>\n",
       "      <th>movie title</th>\n",
       "      <th>release date</th>\n",
       "      <th>video release date</th>\n",
       "      <th>IMDb URL</th>\n",
       "      <th>unknown</th>\n",
       "      <th>Action</th>\n",
       "      <th>Adventure</th>\n",
       "      <th>Animation</th>\n",
       "      <th>Children's</th>\n",
       "      <th>...</th>\n",
       "      <th>Fantasy</th>\n",
       "      <th>Film-Noir</th>\n",
       "      <th>Horror</th>\n",
       "      <th>Musical</th>\n",
       "      <th>Mystery</th>\n",
       "      <th>Romance</th>\n",
       "      <th>Sci-Fi</th>\n",
       "      <th>Thriller</th>\n",
       "      <th>War</th>\n",
       "      <th>Western</th>\n",
       "    </tr>\n",
       "  </thead>\n",
       "  <tbody>\n",
       "    <tr>\n",
       "      <th>0</th>\n",
       "      <td>1</td>\n",
       "      <td>Toy Story (1995)</td>\n",
       "      <td>01-Jan-1995</td>\n",
       "      <td>NaN</td>\n",
       "      <td>http://us.imdb.com/M/title-exact?Toy%20Story%2...</td>\n",
       "      <td>0</td>\n",
       "      <td>0</td>\n",
       "      <td>0</td>\n",
       "      <td>1</td>\n",
       "      <td>1</td>\n",
       "      <td>...</td>\n",
       "      <td>0</td>\n",
       "      <td>0</td>\n",
       "      <td>0</td>\n",
       "      <td>0</td>\n",
       "      <td>0</td>\n",
       "      <td>0</td>\n",
       "      <td>0</td>\n",
       "      <td>0</td>\n",
       "      <td>0</td>\n",
       "      <td>0</td>\n",
       "    </tr>\n",
       "    <tr>\n",
       "      <th>1</th>\n",
       "      <td>2</td>\n",
       "      <td>GoldenEye (1995)</td>\n",
       "      <td>01-Jan-1995</td>\n",
       "      <td>NaN</td>\n",
       "      <td>http://us.imdb.com/M/title-exact?GoldenEye%20(...</td>\n",
       "      <td>0</td>\n",
       "      <td>1</td>\n",
       "      <td>1</td>\n",
       "      <td>0</td>\n",
       "      <td>0</td>\n",
       "      <td>...</td>\n",
       "      <td>0</td>\n",
       "      <td>0</td>\n",
       "      <td>0</td>\n",
       "      <td>0</td>\n",
       "      <td>0</td>\n",
       "      <td>0</td>\n",
       "      <td>0</td>\n",
       "      <td>1</td>\n",
       "      <td>0</td>\n",
       "      <td>0</td>\n",
       "    </tr>\n",
       "    <tr>\n",
       "      <th>2</th>\n",
       "      <td>3</td>\n",
       "      <td>Four Rooms (1995)</td>\n",
       "      <td>01-Jan-1995</td>\n",
       "      <td>NaN</td>\n",
       "      <td>http://us.imdb.com/M/title-exact?Four%20Rooms%...</td>\n",
       "      <td>0</td>\n",
       "      <td>0</td>\n",
       "      <td>0</td>\n",
       "      <td>0</td>\n",
       "      <td>0</td>\n",
       "      <td>...</td>\n",
       "      <td>0</td>\n",
       "      <td>0</td>\n",
       "      <td>0</td>\n",
       "      <td>0</td>\n",
       "      <td>0</td>\n",
       "      <td>0</td>\n",
       "      <td>0</td>\n",
       "      <td>1</td>\n",
       "      <td>0</td>\n",
       "      <td>0</td>\n",
       "    </tr>\n",
       "    <tr>\n",
       "      <th>3</th>\n",
       "      <td>4</td>\n",
       "      <td>Get Shorty (1995)</td>\n",
       "      <td>01-Jan-1995</td>\n",
       "      <td>NaN</td>\n",
       "      <td>http://us.imdb.com/M/title-exact?Get%20Shorty%...</td>\n",
       "      <td>0</td>\n",
       "      <td>1</td>\n",
       "      <td>0</td>\n",
       "      <td>0</td>\n",
       "      <td>0</td>\n",
       "      <td>...</td>\n",
       "      <td>0</td>\n",
       "      <td>0</td>\n",
       "      <td>0</td>\n",
       "      <td>0</td>\n",
       "      <td>0</td>\n",
       "      <td>0</td>\n",
       "      <td>0</td>\n",
       "      <td>0</td>\n",
       "      <td>0</td>\n",
       "      <td>0</td>\n",
       "    </tr>\n",
       "    <tr>\n",
       "      <th>4</th>\n",
       "      <td>5</td>\n",
       "      <td>Copycat (1995)</td>\n",
       "      <td>01-Jan-1995</td>\n",
       "      <td>NaN</td>\n",
       "      <td>http://us.imdb.com/M/title-exact?Copycat%20(1995)</td>\n",
       "      <td>0</td>\n",
       "      <td>0</td>\n",
       "      <td>0</td>\n",
       "      <td>0</td>\n",
       "      <td>0</td>\n",
       "      <td>...</td>\n",
       "      <td>0</td>\n",
       "      <td>0</td>\n",
       "      <td>0</td>\n",
       "      <td>0</td>\n",
       "      <td>0</td>\n",
       "      <td>0</td>\n",
       "      <td>0</td>\n",
       "      <td>1</td>\n",
       "      <td>0</td>\n",
       "      <td>0</td>\n",
       "    </tr>\n",
       "  </tbody>\n",
       "</table>\n",
       "<p>5 rows × 24 columns</p>\n",
       "</div>"
      ],
      "text/plain": [
       "   movie id        movie title release date  video release date  \\\n",
       "0         1   Toy Story (1995)  01-Jan-1995                 NaN   \n",
       "1         2   GoldenEye (1995)  01-Jan-1995                 NaN   \n",
       "2         3  Four Rooms (1995)  01-Jan-1995                 NaN   \n",
       "3         4  Get Shorty (1995)  01-Jan-1995                 NaN   \n",
       "4         5     Copycat (1995)  01-Jan-1995                 NaN   \n",
       "\n",
       "                                            IMDb URL  unknown  Action  \\\n",
       "0  http://us.imdb.com/M/title-exact?Toy%20Story%2...        0       0   \n",
       "1  http://us.imdb.com/M/title-exact?GoldenEye%20(...        0       1   \n",
       "2  http://us.imdb.com/M/title-exact?Four%20Rooms%...        0       0   \n",
       "3  http://us.imdb.com/M/title-exact?Get%20Shorty%...        0       1   \n",
       "4  http://us.imdb.com/M/title-exact?Copycat%20(1995)        0       0   \n",
       "\n",
       "   Adventure  Animation  Children's  ...  Fantasy  Film-Noir  Horror  Musical  \\\n",
       "0          0          1           1  ...        0          0       0        0   \n",
       "1          1          0           0  ...        0          0       0        0   \n",
       "2          0          0           0  ...        0          0       0        0   \n",
       "3          0          0           0  ...        0          0       0        0   \n",
       "4          0          0           0  ...        0          0       0        0   \n",
       "\n",
       "   Mystery  Romance  Sci-Fi  Thriller  War  Western  \n",
       "0        0        0       0         0    0        0  \n",
       "1        0        0       0         1    0        0  \n",
       "2        0        0       0         1    0        0  \n",
       "3        0        0       0         0    0        0  \n",
       "4        0        0       0         1    0        0  \n",
       "\n",
       "[5 rows x 24 columns]"
      ]
     },
     "execution_count": 8,
     "metadata": {},
     "output_type": "execute_result"
    }
   ],
   "source": [
    "movies.head()"
   ]
  },
  {
   "cell_type": "code",
   "execution_count": 9,
   "metadata": {},
   "outputs": [
    {
     "data": {
      "text/html": [
       "<div>\n",
       "<style scoped>\n",
       "    .dataframe tbody tr th:only-of-type {\n",
       "        vertical-align: middle;\n",
       "    }\n",
       "\n",
       "    .dataframe tbody tr th {\n",
       "        vertical-align: top;\n",
       "    }\n",
       "\n",
       "    .dataframe thead th {\n",
       "        text-align: right;\n",
       "    }\n",
       "</style>\n",
       "<table border=\"1\" class=\"dataframe\">\n",
       "  <thead>\n",
       "    <tr style=\"text-align: right;\">\n",
       "      <th></th>\n",
       "      <th>user_id</th>\n",
       "      <th>age</th>\n",
       "      <th>gender</th>\n",
       "      <th>occupation</th>\n",
       "      <th>zipcode</th>\n",
       "    </tr>\n",
       "  </thead>\n",
       "  <tbody>\n",
       "    <tr>\n",
       "      <th>0</th>\n",
       "      <td>1</td>\n",
       "      <td>24</td>\n",
       "      <td>M</td>\n",
       "      <td>technician</td>\n",
       "      <td>85711</td>\n",
       "    </tr>\n",
       "    <tr>\n",
       "      <th>1</th>\n",
       "      <td>2</td>\n",
       "      <td>53</td>\n",
       "      <td>F</td>\n",
       "      <td>other</td>\n",
       "      <td>94043</td>\n",
       "    </tr>\n",
       "    <tr>\n",
       "      <th>2</th>\n",
       "      <td>3</td>\n",
       "      <td>23</td>\n",
       "      <td>M</td>\n",
       "      <td>writer</td>\n",
       "      <td>32067</td>\n",
       "    </tr>\n",
       "    <tr>\n",
       "      <th>3</th>\n",
       "      <td>4</td>\n",
       "      <td>24</td>\n",
       "      <td>M</td>\n",
       "      <td>technician</td>\n",
       "      <td>43537</td>\n",
       "    </tr>\n",
       "    <tr>\n",
       "      <th>4</th>\n",
       "      <td>5</td>\n",
       "      <td>33</td>\n",
       "      <td>F</td>\n",
       "      <td>other</td>\n",
       "      <td>15213</td>\n",
       "    </tr>\n",
       "  </tbody>\n",
       "</table>\n",
       "</div>"
      ],
      "text/plain": [
       "   user_id  age gender  occupation zipcode\n",
       "0        1   24      M  technician   85711\n",
       "1        2   53      F       other   94043\n",
       "2        3   23      M      writer   32067\n",
       "3        4   24      M  technician   43537\n",
       "4        5   33      F       other   15213"
      ]
     },
     "execution_count": 9,
     "metadata": {},
     "output_type": "execute_result"
    }
   ],
   "source": [
    "users.head()"
   ]
  },
  {
   "cell_type": "code",
   "execution_count": 10,
   "metadata": {},
   "outputs": [],
   "source": [
    "genres = movie_cols[6:]"
   ]
  },
  {
   "cell_type": "code",
   "execution_count": 11,
   "metadata": {},
   "outputs": [],
   "source": [
    "def create_user_profile(userid, movies, ratings):\n",
    "    genre_ratings = [0]*len(genres)\n",
    "    genre_counts = [0]*len(genres)\n",
    "    user_ratings = ratings[ratings['user_id']==userid]\n",
    "    movie_ids = user_ratings['item_id']\n",
    "    movie_ratings = user_ratings['rating']\n",
    "    for i, rat in zip(movie_ids, movie_ratings):\n",
    "        movie = movies[movies['movie id']==i]\n",
    "        for idx, j in enumerate(genres):\n",
    "            if movie[j].iloc[0] == 1:\n",
    "                genre_ratings[idx] += rat\n",
    "                genre_counts[idx] += 1\n",
    "    genre_ratings = [round(i/j, 2) if j != 0 else 0 for i,j in zip(genre_ratings, genre_counts)]\n",
    "    return genre_ratings"
   ]
  },
  {
   "cell_type": "code",
   "execution_count": 12,
   "metadata": {},
   "outputs": [],
   "source": [
    "user_profile_cols = ['user_id']\n",
    "user_profile_cols.extend(genres)"
   ]
  },
  {
   "cell_type": "code",
   "execution_count": 13,
   "metadata": {},
   "outputs": [],
   "source": [
    "user_profile = pd.DataFrame(columns = user_profile_cols)\n",
    "rec = 0\n",
    "user_ids = [200, 15]\n",
    "for i in user_ids:\n",
    "    profile = [i]\n",
    "    genre_ratings = create_user_profile(i, movies, ratings)\n",
    "    profile.extend(genre_ratings)\n",
    "    user_profile.loc[rec] = profile\n",
    "    rec += 1"
   ]
  },
  {
   "cell_type": "code",
   "execution_count": 14,
   "metadata": {},
   "outputs": [
    {
     "data": {
      "text/html": [
       "<div>\n",
       "<style scoped>\n",
       "    .dataframe tbody tr th:only-of-type {\n",
       "        vertical-align: middle;\n",
       "    }\n",
       "\n",
       "    .dataframe tbody tr th {\n",
       "        vertical-align: top;\n",
       "    }\n",
       "\n",
       "    .dataframe thead th {\n",
       "        text-align: right;\n",
       "    }\n",
       "</style>\n",
       "<table border=\"1\" class=\"dataframe\">\n",
       "  <thead>\n",
       "    <tr style=\"text-align: right;\">\n",
       "      <th></th>\n",
       "      <th>user_id</th>\n",
       "      <th>Action</th>\n",
       "      <th>Adventure</th>\n",
       "      <th>Animation</th>\n",
       "      <th>Children's</th>\n",
       "      <th>Comedy</th>\n",
       "      <th>Crime</th>\n",
       "      <th>Documentary</th>\n",
       "      <th>Drama</th>\n",
       "      <th>Fantasy</th>\n",
       "      <th>Film-Noir</th>\n",
       "      <th>Horror</th>\n",
       "      <th>Musical</th>\n",
       "      <th>Mystery</th>\n",
       "      <th>Romance</th>\n",
       "      <th>Sci-Fi</th>\n",
       "      <th>Thriller</th>\n",
       "      <th>War</th>\n",
       "      <th>Western</th>\n",
       "    </tr>\n",
       "  </thead>\n",
       "  <tbody>\n",
       "    <tr>\n",
       "      <th>0</th>\n",
       "      <td>200.0</td>\n",
       "      <td>4.20</td>\n",
       "      <td>4.12</td>\n",
       "      <td>4.12</td>\n",
       "      <td>3.95</td>\n",
       "      <td>3.71</td>\n",
       "      <td>3.7</td>\n",
       "      <td>2.0</td>\n",
       "      <td>4.11</td>\n",
       "      <td>4.10</td>\n",
       "      <td>5.0</td>\n",
       "      <td>4.4</td>\n",
       "      <td>4.24</td>\n",
       "      <td>3.75</td>\n",
       "      <td>4.11</td>\n",
       "      <td>4.37</td>\n",
       "      <td>4.02</td>\n",
       "      <td>4.29</td>\n",
       "      <td>4.0</td>\n",
       "    </tr>\n",
       "    <tr>\n",
       "      <th>1</th>\n",
       "      <td>15.0</td>\n",
       "      <td>2.68</td>\n",
       "      <td>3.00</td>\n",
       "      <td>1.00</td>\n",
       "      <td>1.86</td>\n",
       "      <td>2.68</td>\n",
       "      <td>2.5</td>\n",
       "      <td>0.0</td>\n",
       "      <td>3.19</td>\n",
       "      <td>3.33</td>\n",
       "      <td>3.0</td>\n",
       "      <td>1.0</td>\n",
       "      <td>2.00</td>\n",
       "      <td>2.43</td>\n",
       "      <td>3.44</td>\n",
       "      <td>2.67</td>\n",
       "      <td>2.36</td>\n",
       "      <td>3.40</td>\n",
       "      <td>0.0</td>\n",
       "    </tr>\n",
       "  </tbody>\n",
       "</table>\n",
       "</div>"
      ],
      "text/plain": [
       "   user_id  Action  Adventure  Animation  Children's  Comedy  Crime  \\\n",
       "0    200.0    4.20       4.12       4.12        3.95    3.71    3.7   \n",
       "1     15.0    2.68       3.00       1.00        1.86    2.68    2.5   \n",
       "\n",
       "   Documentary  Drama  Fantasy  Film-Noir  Horror  Musical  Mystery  Romance  \\\n",
       "0          2.0   4.11     4.10        5.0     4.4     4.24     3.75     4.11   \n",
       "1          0.0   3.19     3.33        3.0     1.0     2.00     2.43     3.44   \n",
       "\n",
       "   Sci-Fi  Thriller   War  Western  \n",
       "0    4.37      4.02  4.29      4.0  \n",
       "1    2.67      2.36  3.40      0.0  "
      ]
     },
     "execution_count": 14,
     "metadata": {},
     "output_type": "execute_result"
    }
   ],
   "source": [
    "user_profile"
   ]
  },
  {
   "cell_type": "code",
   "execution_count": 15,
   "metadata": {},
   "outputs": [
    {
     "name": "stdout",
     "output_type": "stream",
     "text": [
      "Cosine distance between user 200 and movie 97 is 0.5338775894666912\n",
      "Cosine distance between user 15 and movie 97 is 0.6427084353986308\n"
     ]
    }
   ],
   "source": [
    "from scipy.spatial.distance import cosine\n",
    "print('Cosine distance between user 200 and movie 97 is {}'.format(cosine(movies[movies['movie id']==95][genres].values[0], user_profile[genres].values[0])))\n",
    "print('Cosine distance between user 15 and movie 97 is {}'.format(cosine(movies[movies['movie id']==95][genres].values[0], user_profile[genres].values[1])))"
   ]
  },
  {
   "cell_type": "markdown",
   "metadata": {},
   "source": [
    "A recommender system would suggest this movie to User 15"
   ]
  },
  {
   "cell_type": "markdown",
   "metadata": {},
   "source": [
    "# Problem 3\n",
    "**Question**\n",
    "Using the same (ml-100k.zip) dataset compute the Item based Collaborative Filtering to predict the rater's age distribution, cosine similarity given the user interest in movie Speed (1994) what would your movie recommendation listed in order of their cosine similarity."
   ]
  },
  {
   "cell_type": "code",
   "execution_count": 16,
   "metadata": {},
   "outputs": [],
   "source": [
    "from surprise import Dataset, evaluate\n",
    "from surprise import KNNBasic"
   ]
  },
  {
   "cell_type": "code",
   "execution_count": 17,
   "metadata": {},
   "outputs": [],
   "source": [
    "data = Dataset.load_builtin(\"ml-100k\")\n",
    "trainingSet = data.build_full_trainset()"
   ]
  },
  {
   "cell_type": "code",
   "execution_count": 18,
   "metadata": {},
   "outputs": [],
   "source": [
    "sim_options = {\n",
    "    'name': 'cosine',\n",
    "    'user_based': False\n",
    "}\n",
    " \n",
    "knn = KNNBasic(sim_options=sim_options)"
   ]
  },
  {
   "cell_type": "code",
   "execution_count": 19,
   "metadata": {},
   "outputs": [
    {
     "name": "stdout",
     "output_type": "stream",
     "text": [
      "Computing the cosine similarity matrix...\n",
      "Done computing similarity matrix.\n"
     ]
    },
    {
     "data": {
      "text/plain": [
       "<surprise.prediction_algorithms.knns.KNNBasic at 0x819eed4a8>"
      ]
     },
     "execution_count": 19,
     "metadata": {},
     "output_type": "execute_result"
    }
   ],
   "source": [
    "knn.fit(trainingSet)"
   ]
  },
  {
   "cell_type": "code",
   "execution_count": 20,
   "metadata": {},
   "outputs": [
    {
     "data": {
      "text/html": [
       "<div>\n",
       "<style scoped>\n",
       "    .dataframe tbody tr th:only-of-type {\n",
       "        vertical-align: middle;\n",
       "    }\n",
       "\n",
       "    .dataframe tbody tr th {\n",
       "        vertical-align: top;\n",
       "    }\n",
       "\n",
       "    .dataframe thead th {\n",
       "        text-align: right;\n",
       "    }\n",
       "</style>\n",
       "<table border=\"1\" class=\"dataframe\">\n",
       "  <thead>\n",
       "    <tr style=\"text-align: right;\">\n",
       "      <th></th>\n",
       "      <th>movie id</th>\n",
       "      <th>movie title</th>\n",
       "      <th>release date</th>\n",
       "      <th>video release date</th>\n",
       "      <th>IMDb URL</th>\n",
       "      <th>unknown</th>\n",
       "      <th>Action</th>\n",
       "      <th>Adventure</th>\n",
       "      <th>Animation</th>\n",
       "      <th>Children's</th>\n",
       "      <th>...</th>\n",
       "      <th>Fantasy</th>\n",
       "      <th>Film-Noir</th>\n",
       "      <th>Horror</th>\n",
       "      <th>Musical</th>\n",
       "      <th>Mystery</th>\n",
       "      <th>Romance</th>\n",
       "      <th>Sci-Fi</th>\n",
       "      <th>Thriller</th>\n",
       "      <th>War</th>\n",
       "      <th>Western</th>\n",
       "    </tr>\n",
       "  </thead>\n",
       "  <tbody>\n",
       "    <tr>\n",
       "      <th>567</th>\n",
       "      <td>568</td>\n",
       "      <td>Speed (1994)</td>\n",
       "      <td>01-Jan-1994</td>\n",
       "      <td>NaN</td>\n",
       "      <td>http://us.imdb.com/M/title-exact?Speed%20(1994/I)</td>\n",
       "      <td>0</td>\n",
       "      <td>1</td>\n",
       "      <td>0</td>\n",
       "      <td>0</td>\n",
       "      <td>0</td>\n",
       "      <td>...</td>\n",
       "      <td>0</td>\n",
       "      <td>0</td>\n",
       "      <td>0</td>\n",
       "      <td>0</td>\n",
       "      <td>0</td>\n",
       "      <td>1</td>\n",
       "      <td>0</td>\n",
       "      <td>1</td>\n",
       "      <td>0</td>\n",
       "      <td>0</td>\n",
       "    </tr>\n",
       "  </tbody>\n",
       "</table>\n",
       "<p>1 rows × 24 columns</p>\n",
       "</div>"
      ],
      "text/plain": [
       "     movie id   movie title release date  video release date  \\\n",
       "567       568  Speed (1994)  01-Jan-1994                 NaN   \n",
       "\n",
       "                                              IMDb URL  unknown  Action  \\\n",
       "567  http://us.imdb.com/M/title-exact?Speed%20(1994/I)        0       1   \n",
       "\n",
       "     Adventure  Animation  Children's  ...  Fantasy  Film-Noir  Horror  \\\n",
       "567          0          0           0  ...        0          0       0   \n",
       "\n",
       "     Musical  Mystery  Romance  Sci-Fi  Thriller  War  Western  \n",
       "567        0        0        1       0         1    0        0  \n",
       "\n",
       "[1 rows x 24 columns]"
      ]
     },
     "execution_count": 20,
     "metadata": {},
     "output_type": "execute_result"
    }
   ],
   "source": [
    "movies[movies['movie title']=='Speed (1994)']"
   ]
  },
  {
   "cell_type": "code",
   "execution_count": 21,
   "metadata": {},
   "outputs": [],
   "source": [
    "ages = []\n",
    "for i in users['user_id']:\n",
    "    prediction = knn.predict(str(i), '568')\n",
    "    if not prediction.details['was_impossible'] and prediction.est >= 3:\n",
    "        ages.extend(users[users['user_id']==i].age.values)"
   ]
  },
  {
   "cell_type": "code",
   "execution_count": 22,
   "metadata": {},
   "outputs": [
    {
     "data": {
      "text/plain": [
       "<matplotlib.axes._subplots.AxesSubplot at 0x1a21702a20>"
      ]
     },
     "execution_count": 22,
     "metadata": {},
     "output_type": "execute_result"
    },
    {
     "data": {
      "image/png": "[encoded data removed]",
      "text/plain": [
       "<Figure size 432x288 with 1 Axes>"
      ]
     },
     "metadata": {
      "needs_background": "light"
     },
     "output_type": "display_data"
    }
   ],
   "source": [
    "import seaborn as sns\n",
    "sns.distplot(ages)"
   ]
  },
  {
   "cell_type": "markdown",
   "metadata": {},
   "source": [
    "From the Above DistPlot we can see that the movie **Speed (1994)** will have a high rating among users of the age **20-30**"
   ]
  }
 ],
 "metadata": {
  "kernelspec": {
   "display_name": "Python 3",
   "language": "python",
   "name": "python3"
  },
  "language_info": {
   "codemirror_mode": {
    "name": "ipython",
    "version": 3
   },
   "file_extension": ".py",
   "mimetype": "text/x-python",
   "name": "python",
   "nbconvert_exporter": "python",
   "pygments_lexer": "ipython3",
   "version": "3.7.3"
  }
 },
 "nbformat": 4,
 "nbformat_minor": 2
}
